{
 "cells": [
  {
   "cell_type": "code",
   "execution_count": 1,
   "id": "74fe475a",
   "metadata": {},
   "outputs": [],
   "source": [
    "api_key = 'xxx'"
   ]
  },
  {
   "cell_type": "code",
   "execution_count": 2,
   "id": "faa92fad",
   "metadata": {},
   "outputs": [],
   "source": [
    "import pandas as pd"
   ]
  },
  {
   "cell_type": "code",
   "execution_count": 3,
   "id": "4e8f1f28",
   "metadata": {},
   "outputs": [
    {
     "data": {
      "text/plain": [
       "<yelpapi.yelpapi.YelpAPI at 0x1f9a1fcf430>"
      ]
     },
     "execution_count": 3,
     "metadata": {},
     "output_type": "execute_result"
    }
   ],
   "source": [
    "\n",
    "from yelpapi import YelpAPI\n",
    "yelp_api = YelpAPI(api_key, timeout_s=5.0)\n",
    "yelp_api"
   ]
  },
  {
   "cell_type": "code",
   "execution_count": 4,
   "id": "1fbcc726",
   "metadata": {},
   "outputs": [
    {
     "data": {
      "text/plain": [
       "dict_keys(['businesses', 'total', 'region'])"
      ]
     },
     "execution_count": 4,
     "metadata": {},
     "output_type": "execute_result"
    }
   ],
   "source": [
    "results = yelp_api.search_query(location = 'Las Vegas, NV', term='vegan')\n",
    "type(results)\n",
    "results.keys()"
   ]
  },
  {
   "cell_type": "code",
   "execution_count": 5,
   "id": "96ed3690",
   "metadata": {},
   "outputs": [
    {
     "data": {
      "text/plain": [
       "2700"
      ]
     },
     "execution_count": 5,
     "metadata": {},
     "output_type": "execute_result"
    }
   ],
   "source": [
    "results['total']"
   ]
  },
  {
   "cell_type": "code",
   "execution_count": 6,
   "id": "8d869eb7",
   "metadata": {},
   "outputs": [
    {
     "data": {
      "text/html": [
       "<div>\n",
       "<style scoped>\n",
       "    .dataframe tbody tr th:only-of-type {\n",
       "        vertical-align: middle;\n",
       "    }\n",
       "\n",
       "    .dataframe tbody tr th {\n",
       "        vertical-align: top;\n",
       "    }\n",
       "\n",
       "    .dataframe thead th {\n",
       "        text-align: right;\n",
       "    }\n",
       "</style>\n",
       "<table border=\"1\" class=\"dataframe\">\n",
       "  <thead>\n",
       "    <tr style=\"text-align: right;\">\n",
       "      <th></th>\n",
       "      <th>id</th>\n",
       "      <th>alias</th>\n",
       "      <th>name</th>\n",
       "      <th>image_url</th>\n",
       "      <th>is_closed</th>\n",
       "      <th>url</th>\n",
       "      <th>review_count</th>\n",
       "      <th>categories</th>\n",
       "      <th>rating</th>\n",
       "      <th>coordinates</th>\n",
       "      <th>transactions</th>\n",
       "      <th>price</th>\n",
       "      <th>location</th>\n",
       "      <th>phone</th>\n",
       "      <th>display_phone</th>\n",
       "      <th>distance</th>\n",
       "    </tr>\n",
       "  </thead>\n",
       "  <tbody>\n",
       "    <tr>\n",
       "      <th>0</th>\n",
       "      <td>dVp1llwjZUmhCF4pNsJnQg</td>\n",
       "      <td>the-modern-vegan-las-vegas</td>\n",
       "      <td>The Modern Vegan</td>\n",
       "      <td>https://s3-media4.fl.yelpcdn.com/bphoto/H82DwK...</td>\n",
       "      <td>False</td>\n",
       "      <td>https://www.yelp.com/biz/the-modern-vegan-las-...</td>\n",
       "      <td>1392</td>\n",
       "      <td>[{'alias': 'tradamerican', 'title': 'American ...</td>\n",
       "      <td>4.0</td>\n",
       "      <td>{'latitude': 36.10592, 'longitude': -115.14888}</td>\n",
       "      <td>[delivery, pickup]</td>\n",
       "      <td>$$</td>\n",
       "      <td>{'address1': '700 E Naples Dr', 'address2': No...</td>\n",
       "      <td>+17027558127</td>\n",
       "      <td>(702) 755-8127</td>\n",
       "      <td>4590.465129</td>\n",
       "    </tr>\n",
       "    <tr>\n",
       "      <th>1</th>\n",
       "      <td>2sx52lDoiEtef7xgPCaoBw</td>\n",
       "      <td>vegenation-las-vegas</td>\n",
       "      <td>VegeNation</td>\n",
       "      <td>https://s3-media3.fl.yelpcdn.com/bphoto/4aaFfY...</td>\n",
       "      <td>False</td>\n",
       "      <td>https://www.yelp.com/biz/vegenation-las-vegas?...</td>\n",
       "      <td>1983</td>\n",
       "      <td>[{'alias': 'vegan', 'title': 'Vegan'}]</td>\n",
       "      <td>4.5</td>\n",
       "      <td>{'latitude': 36.1672853943714, 'longitude': -1...</td>\n",
       "      <td>[delivery, pickup]</td>\n",
       "      <td>$$</td>\n",
       "      <td>{'address1': '616 Carson Ave', 'address2': 'St...</td>\n",
       "      <td>+17023668515</td>\n",
       "      <td>(702) 366-8515</td>\n",
       "      <td>2373.668270</td>\n",
       "    </tr>\n",
       "  </tbody>\n",
       "</table>\n",
       "</div>"
      ],
      "text/plain": [
       "                       id                       alias              name  \\\n",
       "0  dVp1llwjZUmhCF4pNsJnQg  the-modern-vegan-las-vegas  The Modern Vegan   \n",
       "1  2sx52lDoiEtef7xgPCaoBw        vegenation-las-vegas        VegeNation   \n",
       "\n",
       "                                           image_url  is_closed  \\\n",
       "0  https://s3-media4.fl.yelpcdn.com/bphoto/H82DwK...      False   \n",
       "1  https://s3-media3.fl.yelpcdn.com/bphoto/4aaFfY...      False   \n",
       "\n",
       "                                                 url  review_count  \\\n",
       "0  https://www.yelp.com/biz/the-modern-vegan-las-...          1392   \n",
       "1  https://www.yelp.com/biz/vegenation-las-vegas?...          1983   \n",
       "\n",
       "                                          categories  rating  \\\n",
       "0  [{'alias': 'tradamerican', 'title': 'American ...     4.0   \n",
       "1             [{'alias': 'vegan', 'title': 'Vegan'}]     4.5   \n",
       "\n",
       "                                         coordinates        transactions  \\\n",
       "0    {'latitude': 36.10592, 'longitude': -115.14888}  [delivery, pickup]   \n",
       "1  {'latitude': 36.1672853943714, 'longitude': -1...  [delivery, pickup]   \n",
       "\n",
       "  price                                           location         phone  \\\n",
       "0    $$  {'address1': '700 E Naples Dr', 'address2': No...  +17027558127   \n",
       "1    $$  {'address1': '616 Carson Ave', 'address2': 'St...  +17023668515   \n",
       "\n",
       "    display_phone     distance  \n",
       "0  (702) 755-8127  4590.465129  \n",
       "1  (702) 366-8515  2373.668270  "
      ]
     },
     "execution_count": 6,
     "metadata": {},
     "output_type": "execute_result"
    }
   ],
   "source": [
    "veg = pd.DataFrame(results['businesses'])\n",
    "veg.head(2)"
   ]
  },
  {
   "cell_type": "code",
   "execution_count": 7,
   "id": "9db19706",
   "metadata": {},
   "outputs": [
    {
     "data": {
      "text/plain": [
       "2700"
      ]
     },
     "execution_count": 7,
     "metadata": {},
     "output_type": "execute_result"
    }
   ],
   "source": [
    "## total number of matching businesses\n",
    "results['total']\n",
    "\n"
   ]
  },
  {
   "cell_type": "code",
   "execution_count": 8,
   "id": "65fc06e3",
   "metadata": {},
   "outputs": [
    {
     "data": {
      "text/plain": [
       "20"
      ]
     },
     "execution_count": 8,
     "metadata": {},
     "output_type": "execute_result"
    }
   ],
   "source": [
    "len(results['businesses'])"
   ]
  },
  {
   "cell_type": "code",
   "execution_count": 9,
   "id": "ff09a6d9",
   "metadata": {},
   "outputs": [
    {
     "data": {
      "text/plain": [
       "dict_keys(['businesses', 'total', 'region'])"
      ]
     },
     "execution_count": 9,
     "metadata": {},
     "output_type": "execute_result"
    }
   ],
   "source": [
    "results = yelp_api.search_query(location = 'Las Vegas, NV', term='vegan', offset = 20)\n",
    "type(results)\n",
    "results.keys()"
   ]
  },
  {
   "cell_type": "code",
   "execution_count": 10,
   "id": "52048183",
   "metadata": {},
   "outputs": [
    {
     "data": {
      "text/html": [
       "<div>\n",
       "<style scoped>\n",
       "    .dataframe tbody tr th:only-of-type {\n",
       "        vertical-align: middle;\n",
       "    }\n",
       "\n",
       "    .dataframe tbody tr th {\n",
       "        vertical-align: top;\n",
       "    }\n",
       "\n",
       "    .dataframe thead th {\n",
       "        text-align: right;\n",
       "    }\n",
       "</style>\n",
       "<table border=\"1\" class=\"dataframe\">\n",
       "  <thead>\n",
       "    <tr style=\"text-align: right;\">\n",
       "      <th></th>\n",
       "      <th>id</th>\n",
       "      <th>alias</th>\n",
       "      <th>name</th>\n",
       "      <th>image_url</th>\n",
       "      <th>is_closed</th>\n",
       "      <th>url</th>\n",
       "      <th>review_count</th>\n",
       "      <th>categories</th>\n",
       "      <th>rating</th>\n",
       "      <th>coordinates</th>\n",
       "      <th>transactions</th>\n",
       "      <th>location</th>\n",
       "      <th>phone</th>\n",
       "      <th>display_phone</th>\n",
       "      <th>distance</th>\n",
       "      <th>price</th>\n",
       "    </tr>\n",
       "  </thead>\n",
       "  <tbody>\n",
       "    <tr>\n",
       "      <th>0</th>\n",
       "      <td>Jdy_LBHOmf3XIXzwa1sP3Q</td>\n",
       "      <td>saffron-the-vegetarian-eatery-las-vegas</td>\n",
       "      <td>Saffron, the Vegetarian Eatery</td>\n",
       "      <td>https://s3-media1.fl.yelpcdn.com/bphoto/-fZDqk...</td>\n",
       "      <td>False</td>\n",
       "      <td>https://www.yelp.com/biz/saffron-the-vegetaria...</td>\n",
       "      <td>97</td>\n",
       "      <td>[{'alias': 'vegetarian', 'title': 'Vegetarian'...</td>\n",
       "      <td>4.5</td>\n",
       "      <td>{'latitude': 36.12544, 'longitude': -115.20873}</td>\n",
       "      <td>[]</td>\n",
       "      <td>{'address1': '3545 S Decatur Blvd', 'address2'...</td>\n",
       "      <td>+17022011926</td>\n",
       "      <td>(702) 201-1926</td>\n",
       "      <td>6860.133336</td>\n",
       "      <td>NaN</td>\n",
       "    </tr>\n",
       "    <tr>\n",
       "      <th>1</th>\n",
       "      <td>SgoPKzmU5CjuD5ewuoJ7oQ</td>\n",
       "      <td>veggieat-henderson-2</td>\n",
       "      <td>VeggiEAT</td>\n",
       "      <td>https://s3-media1.fl.yelpcdn.com/bphoto/wb4Pky...</td>\n",
       "      <td>False</td>\n",
       "      <td>https://www.yelp.com/biz/veggieat-henderson-2?...</td>\n",
       "      <td>533</td>\n",
       "      <td>[{'alias': 'vegetarian', 'title': 'Vegetarian'...</td>\n",
       "      <td>4.5</td>\n",
       "      <td>{'latitude': 36.0555749, 'longitude': -115.04602}</td>\n",
       "      <td>[delivery, pickup]</td>\n",
       "      <td>{'address1': '390 N Stephanie St', 'address2':...</td>\n",
       "      <td>+17024588899</td>\n",
       "      <td>(702) 458-8899</td>\n",
       "      <td>13012.949883</td>\n",
       "      <td>$$</td>\n",
       "    </tr>\n",
       "  </tbody>\n",
       "</table>\n",
       "</div>"
      ],
      "text/plain": [
       "                       id                                    alias  \\\n",
       "0  Jdy_LBHOmf3XIXzwa1sP3Q  saffron-the-vegetarian-eatery-las-vegas   \n",
       "1  SgoPKzmU5CjuD5ewuoJ7oQ                     veggieat-henderson-2   \n",
       "\n",
       "                             name  \\\n",
       "0  Saffron, the Vegetarian Eatery   \n",
       "1                        VeggiEAT   \n",
       "\n",
       "                                           image_url  is_closed  \\\n",
       "0  https://s3-media1.fl.yelpcdn.com/bphoto/-fZDqk...      False   \n",
       "1  https://s3-media1.fl.yelpcdn.com/bphoto/wb4Pky...      False   \n",
       "\n",
       "                                                 url  review_count  \\\n",
       "0  https://www.yelp.com/biz/saffron-the-vegetaria...            97   \n",
       "1  https://www.yelp.com/biz/veggieat-henderson-2?...           533   \n",
       "\n",
       "                                          categories  rating  \\\n",
       "0  [{'alias': 'vegetarian', 'title': 'Vegetarian'...     4.5   \n",
       "1  [{'alias': 'vegetarian', 'title': 'Vegetarian'...     4.5   \n",
       "\n",
       "                                         coordinates        transactions  \\\n",
       "0    {'latitude': 36.12544, 'longitude': -115.20873}                  []   \n",
       "1  {'latitude': 36.0555749, 'longitude': -115.04602}  [delivery, pickup]   \n",
       "\n",
       "                                            location         phone  \\\n",
       "0  {'address1': '3545 S Decatur Blvd', 'address2'...  +17022011926   \n",
       "1  {'address1': '390 N Stephanie St', 'address2':...  +17024588899   \n",
       "\n",
       "    display_phone      distance price  \n",
       "0  (702) 201-1926   6860.133336   NaN  \n",
       "1  (702) 458-8899  13012.949883    $$  "
      ]
     },
     "execution_count": 10,
     "metadata": {},
     "output_type": "execute_result"
    }
   ],
   "source": [
    "veg20 = pd.DataFrame(results['businesses'])\n",
    "veg20.head(2)"
   ]
  },
  {
   "cell_type": "code",
   "execution_count": 11,
   "id": "7cd7ad29",
   "metadata": {},
   "outputs": [
    {
     "data": {
      "text/html": [
       "<div>\n",
       "<style scoped>\n",
       "    .dataframe tbody tr th:only-of-type {\n",
       "        vertical-align: middle;\n",
       "    }\n",
       "\n",
       "    .dataframe tbody tr th {\n",
       "        vertical-align: top;\n",
       "    }\n",
       "\n",
       "    .dataframe thead th {\n",
       "        text-align: right;\n",
       "    }\n",
       "</style>\n",
       "<table border=\"1\" class=\"dataframe\">\n",
       "  <thead>\n",
       "    <tr style=\"text-align: right;\">\n",
       "      <th></th>\n",
       "      <th>id</th>\n",
       "      <th>alias</th>\n",
       "      <th>name</th>\n",
       "      <th>image_url</th>\n",
       "      <th>is_closed</th>\n",
       "      <th>url</th>\n",
       "      <th>review_count</th>\n",
       "      <th>categories</th>\n",
       "      <th>rating</th>\n",
       "      <th>coordinates</th>\n",
       "      <th>transactions</th>\n",
       "      <th>price</th>\n",
       "      <th>location</th>\n",
       "      <th>phone</th>\n",
       "      <th>display_phone</th>\n",
       "      <th>distance</th>\n",
       "    </tr>\n",
       "  </thead>\n",
       "  <tbody>\n",
       "    <tr>\n",
       "      <th>0</th>\n",
       "      <td>dVp1llwjZUmhCF4pNsJnQg</td>\n",
       "      <td>the-modern-vegan-las-vegas</td>\n",
       "      <td>The Modern Vegan</td>\n",
       "      <td>https://s3-media4.fl.yelpcdn.com/bphoto/H82DwK...</td>\n",
       "      <td>False</td>\n",
       "      <td>https://www.yelp.com/biz/the-modern-vegan-las-...</td>\n",
       "      <td>1392</td>\n",
       "      <td>[{'alias': 'tradamerican', 'title': 'American ...</td>\n",
       "      <td>4.0</td>\n",
       "      <td>{'latitude': 36.10592, 'longitude': -115.14888}</td>\n",
       "      <td>[delivery, pickup]</td>\n",
       "      <td>$$</td>\n",
       "      <td>{'address1': '700 E Naples Dr', 'address2': No...</td>\n",
       "      <td>+17027558127</td>\n",
       "      <td>(702) 755-8127</td>\n",
       "      <td>4590.465129</td>\n",
       "    </tr>\n",
       "    <tr>\n",
       "      <th>1</th>\n",
       "      <td>2sx52lDoiEtef7xgPCaoBw</td>\n",
       "      <td>vegenation-las-vegas</td>\n",
       "      <td>VegeNation</td>\n",
       "      <td>https://s3-media3.fl.yelpcdn.com/bphoto/4aaFfY...</td>\n",
       "      <td>False</td>\n",
       "      <td>https://www.yelp.com/biz/vegenation-las-vegas?...</td>\n",
       "      <td>1983</td>\n",
       "      <td>[{'alias': 'vegan', 'title': 'Vegan'}]</td>\n",
       "      <td>4.5</td>\n",
       "      <td>{'latitude': 36.1672853943714, 'longitude': -1...</td>\n",
       "      <td>[delivery, pickup]</td>\n",
       "      <td>$$</td>\n",
       "      <td>{'address1': '616 Carson Ave', 'address2': 'St...</td>\n",
       "      <td>+17023668515</td>\n",
       "      <td>(702) 366-8515</td>\n",
       "      <td>2373.668270</td>\n",
       "    </tr>\n",
       "    <tr>\n",
       "      <th>2</th>\n",
       "      <td>9isMTWvXnl-iQVLUIXTtOA</td>\n",
       "      <td>tarantino-s-vegan-las-vegas</td>\n",
       "      <td>Tarantino’s Vegan</td>\n",
       "      <td>https://s3-media1.fl.yelpcdn.com/bphoto/Cksg3z...</td>\n",
       "      <td>False</td>\n",
       "      <td>https://www.yelp.com/biz/tarantino-s-vegan-las...</td>\n",
       "      <td>290</td>\n",
       "      <td>[{'alias': 'vegan', 'title': 'Vegan'}, {'alias...</td>\n",
       "      <td>5.0</td>\n",
       "      <td>{'latitude': 36.043281, 'longitude': -115.242881}</td>\n",
       "      <td>[delivery, pickup]</td>\n",
       "      <td>$$</td>\n",
       "      <td>{'address1': '7960 S Rainbow Blvd', 'address2'...</td>\n",
       "      <td>+17257773888</td>\n",
       "      <td>(725) 777-3888</td>\n",
       "      <td>14804.401137</td>\n",
       "    </tr>\n",
       "  </tbody>\n",
       "</table>\n",
       "</div>"
      ],
      "text/plain": [
       "                       id                        alias               name  \\\n",
       "0  dVp1llwjZUmhCF4pNsJnQg   the-modern-vegan-las-vegas   The Modern Vegan   \n",
       "1  2sx52lDoiEtef7xgPCaoBw         vegenation-las-vegas         VegeNation   \n",
       "2  9isMTWvXnl-iQVLUIXTtOA  tarantino-s-vegan-las-vegas  Tarantino’s Vegan   \n",
       "\n",
       "                                           image_url  is_closed  \\\n",
       "0  https://s3-media4.fl.yelpcdn.com/bphoto/H82DwK...      False   \n",
       "1  https://s3-media3.fl.yelpcdn.com/bphoto/4aaFfY...      False   \n",
       "2  https://s3-media1.fl.yelpcdn.com/bphoto/Cksg3z...      False   \n",
       "\n",
       "                                                 url  review_count  \\\n",
       "0  https://www.yelp.com/biz/the-modern-vegan-las-...          1392   \n",
       "1  https://www.yelp.com/biz/vegenation-las-vegas?...          1983   \n",
       "2  https://www.yelp.com/biz/tarantino-s-vegan-las...           290   \n",
       "\n",
       "                                          categories  rating  \\\n",
       "0  [{'alias': 'tradamerican', 'title': 'American ...     4.0   \n",
       "1             [{'alias': 'vegan', 'title': 'Vegan'}]     4.5   \n",
       "2  [{'alias': 'vegan', 'title': 'Vegan'}, {'alias...     5.0   \n",
       "\n",
       "                                         coordinates        transactions  \\\n",
       "0    {'latitude': 36.10592, 'longitude': -115.14888}  [delivery, pickup]   \n",
       "1  {'latitude': 36.1672853943714, 'longitude': -1...  [delivery, pickup]   \n",
       "2  {'latitude': 36.043281, 'longitude': -115.242881}  [delivery, pickup]   \n",
       "\n",
       "  price                                           location         phone  \\\n",
       "0    $$  {'address1': '700 E Naples Dr', 'address2': No...  +17027558127   \n",
       "1    $$  {'address1': '616 Carson Ave', 'address2': 'St...  +17023668515   \n",
       "2    $$  {'address1': '7960 S Rainbow Blvd', 'address2'...  +17257773888   \n",
       "\n",
       "    display_phone      distance  \n",
       "0  (702) 755-8127   4590.465129  \n",
       "1  (702) 366-8515   2373.668270  \n",
       "2  (725) 777-3888  14804.401137  "
      ]
     },
     "metadata": {},
     "output_type": "display_data"
    },
    {
     "data": {
      "text/html": [
       "<div>\n",
       "<style scoped>\n",
       "    .dataframe tbody tr th:only-of-type {\n",
       "        vertical-align: middle;\n",
       "    }\n",
       "\n",
       "    .dataframe tbody tr th {\n",
       "        vertical-align: top;\n",
       "    }\n",
       "\n",
       "    .dataframe thead th {\n",
       "        text-align: right;\n",
       "    }\n",
       "</style>\n",
       "<table border=\"1\" class=\"dataframe\">\n",
       "  <thead>\n",
       "    <tr style=\"text-align: right;\">\n",
       "      <th></th>\n",
       "      <th>id</th>\n",
       "      <th>alias</th>\n",
       "      <th>name</th>\n",
       "      <th>image_url</th>\n",
       "      <th>is_closed</th>\n",
       "      <th>url</th>\n",
       "      <th>review_count</th>\n",
       "      <th>categories</th>\n",
       "      <th>rating</th>\n",
       "      <th>coordinates</th>\n",
       "      <th>transactions</th>\n",
       "      <th>price</th>\n",
       "      <th>location</th>\n",
       "      <th>phone</th>\n",
       "      <th>display_phone</th>\n",
       "      <th>distance</th>\n",
       "    </tr>\n",
       "  </thead>\n",
       "  <tbody>\n",
       "    <tr>\n",
       "      <th>37</th>\n",
       "      <td>8XMNxkvaLL4gxVocDJTNFA</td>\n",
       "      <td>vintage-vegan-diner-north-las-vegas</td>\n",
       "      <td>Vintage Vegan Diner</td>\n",
       "      <td>https://s3-media4.fl.yelpcdn.com/bphoto/4-ERjb...</td>\n",
       "      <td>False</td>\n",
       "      <td>https://www.yelp.com/biz/vintage-vegan-diner-n...</td>\n",
       "      <td>3</td>\n",
       "      <td>[{'alias': 'vegan', 'title': 'Vegan'}]</td>\n",
       "      <td>5.0</td>\n",
       "      <td>{'latitude': 36.219452, 'longitude': -115.159892}</td>\n",
       "      <td>[]</td>\n",
       "      <td>NaN</td>\n",
       "      <td>{'address1': '1370 W Cheyenne Ave', 'address2'...</td>\n",
       "      <td>+17025957010</td>\n",
       "      <td>(702) 595-7010</td>\n",
       "      <td>8430.956885</td>\n",
       "    </tr>\n",
       "    <tr>\n",
       "      <th>38</th>\n",
       "      <td>XxV3C1-MGI2kIcmOuVAWOA</td>\n",
       "      <td>starseeds-north-las-vegas-3</td>\n",
       "      <td>Starseeds</td>\n",
       "      <td>https://s3-media2.fl.yelpcdn.com/bphoto/0W-8fs...</td>\n",
       "      <td>False</td>\n",
       "      <td>https://www.yelp.com/biz/starseeds-north-las-v...</td>\n",
       "      <td>5</td>\n",
       "      <td>[{'alias': 'fooddeliveryservices', 'title': 'F...</td>\n",
       "      <td>4.0</td>\n",
       "      <td>{'latitude': 36.21389336194146, 'longitude': -...</td>\n",
       "      <td>[]</td>\n",
       "      <td>NaN</td>\n",
       "      <td>{'address1': '2987 Las Vegas Blvd N', 'address...</td>\n",
       "      <td>+17026251707</td>\n",
       "      <td>(702) 625-1707</td>\n",
       "      <td>8222.419134</td>\n",
       "    </tr>\n",
       "    <tr>\n",
       "      <th>39</th>\n",
       "      <td>BqXuk5peVO-lIovXCv9CyQ</td>\n",
       "      <td>veggy-street-las-vegas</td>\n",
       "      <td>Veggy Street</td>\n",
       "      <td>https://s3-media2.fl.yelpcdn.com/bphoto/TiCsif...</td>\n",
       "      <td>False</td>\n",
       "      <td>https://www.yelp.com/biz/veggy-street-las-vega...</td>\n",
       "      <td>407</td>\n",
       "      <td>[{'alias': 'hotdogs', 'title': 'Fast Food'}, {...</td>\n",
       "      <td>4.5</td>\n",
       "      <td>{'latitude': 36.0949946, 'longitude': -115.298...</td>\n",
       "      <td>[delivery, pickup]</td>\n",
       "      <td>$$</td>\n",
       "      <td>{'address1': '5135 S Fort Apache Rd', 'address...</td>\n",
       "      <td>+17027980708</td>\n",
       "      <td>(702) 798-0708</td>\n",
       "      <td>15575.594661</td>\n",
       "    </tr>\n",
       "  </tbody>\n",
       "</table>\n",
       "</div>"
      ],
      "text/plain": [
       "                        id                                alias  \\\n",
       "37  8XMNxkvaLL4gxVocDJTNFA  vintage-vegan-diner-north-las-vegas   \n",
       "38  XxV3C1-MGI2kIcmOuVAWOA          starseeds-north-las-vegas-3   \n",
       "39  BqXuk5peVO-lIovXCv9CyQ               veggy-street-las-vegas   \n",
       "\n",
       "                   name                                          image_url  \\\n",
       "37  Vintage Vegan Diner  https://s3-media4.fl.yelpcdn.com/bphoto/4-ERjb...   \n",
       "38            Starseeds  https://s3-media2.fl.yelpcdn.com/bphoto/0W-8fs...   \n",
       "39         Veggy Street  https://s3-media2.fl.yelpcdn.com/bphoto/TiCsif...   \n",
       "\n",
       "    is_closed                                                url  \\\n",
       "37      False  https://www.yelp.com/biz/vintage-vegan-diner-n...   \n",
       "38      False  https://www.yelp.com/biz/starseeds-north-las-v...   \n",
       "39      False  https://www.yelp.com/biz/veggy-street-las-vega...   \n",
       "\n",
       "    review_count                                         categories  rating  \\\n",
       "37             3             [{'alias': 'vegan', 'title': 'Vegan'}]     5.0   \n",
       "38             5  [{'alias': 'fooddeliveryservices', 'title': 'F...     4.0   \n",
       "39           407  [{'alias': 'hotdogs', 'title': 'Fast Food'}, {...     4.5   \n",
       "\n",
       "                                          coordinates        transactions  \\\n",
       "37  {'latitude': 36.219452, 'longitude': -115.159892}                  []   \n",
       "38  {'latitude': 36.21389336194146, 'longitude': -...                  []   \n",
       "39  {'latitude': 36.0949946, 'longitude': -115.298...  [delivery, pickup]   \n",
       "\n",
       "   price                                           location         phone  \\\n",
       "37   NaN  {'address1': '1370 W Cheyenne Ave', 'address2'...  +17025957010   \n",
       "38   NaN  {'address1': '2987 Las Vegas Blvd N', 'address...  +17026251707   \n",
       "39    $$  {'address1': '5135 S Fort Apache Rd', 'address...  +17027980708   \n",
       "\n",
       "     display_phone      distance  \n",
       "37  (702) 595-7010   8430.956885  \n",
       "38  (702) 625-1707   8222.419134  \n",
       "39  (702) 798-0708  15575.594661  "
      ]
     },
     "metadata": {},
     "output_type": "display_data"
    }
   ],
   "source": [
    "## concatenate the previous results and new results. \n",
    "businesses = pd.concat([veg, veg20],\n",
    "                      ignore_index=True)\n",
    "display(businesses.head(3), businesses.tail(3))\n",
    "\n"
   ]
  },
  {
   "cell_type": "code",
   "execution_count": 12,
   "id": "73daf30f",
   "metadata": {},
   "outputs": [],
   "source": [
    "# Standard Imports\n",
    "import numpy as np\n",
    "import pandas as pd\n",
    "import matplotlib.pyplot as plt\n",
    "import seaborn as sns\n",
    "# Additional Imports\n",
    "import os, json, math, time\n",
    "from yelpapi import YelpAPI\n",
    "from tqdm.notebook import tqdm_notebook\n",
    "\n"
   ]
  },
  {
   "cell_type": "code",
   "execution_count": 13,
   "id": "f98f9344",
   "metadata": {},
   "outputs": [
    {
     "data": {
      "text/plain": [
       "<yelpapi.yelpapi.YelpAPI at 0x1f9a457fa90>"
      ]
     },
     "execution_count": 13,
     "metadata": {},
     "output_type": "execute_result"
    }
   ],
   "source": [
    "yelp_api = YelpAPI(api_key, timeout_s=5.0)\n",
    "yelp_api"
   ]
  },
  {
   "cell_type": "code",
   "execution_count": 14,
   "id": "6d562049",
   "metadata": {},
   "outputs": [],
   "source": [
    "# set our API call parameters and filename before the first call\n",
    "LOCATION = 'Las Vegas, NV, 89108'\n",
    "TERM = 'Vegan'\n",
    "\n"
   ]
  },
  {
   "cell_type": "code",
   "execution_count": 15,
   "id": "bd80abe4",
   "metadata": {},
   "outputs": [
    {
     "data": {
      "text/plain": [
       "'Data/results_in_progress_Vegan_Spots.json'"
      ]
     },
     "execution_count": 15,
     "metadata": {},
     "output_type": "execute_result"
    }
   ],
   "source": [
    "# Specifying JSON_FILE filename (can include a folder)\n",
    "# include the search terms in the filename\n",
    "JSON_FILE = f\"Data/results_in_progress_Vegan_Spots.json\"\n",
    "JSON_FILE\n",
    "\n"
   ]
  },
  {
   "cell_type": "code",
   "execution_count": 16,
   "id": "b8b7889a",
   "metadata": {},
   "outputs": [
    {
     "name": "stdout",
     "output_type": "stream",
     "text": [
      "[i] Data/results_in_progress_Vegan_Spots.json already exists.\n"
     ]
    }
   ],
   "source": [
    "## Check if JSON_FILE exists\n",
    "file_exists = os.path.isfile(JSON_FILE)\n",
    "## If it does not exist: \n",
    "if file_exists == False:\n",
    "    \n",
    "    ## CREATE ANY NEEDED FOLDERS\n",
    "    # Get the Folder Name only\n",
    "    folder = os.path.dirname(JSON_FILE)\n",
    "    ## If JSON_FILE included a folder:\n",
    "    if len(folder)>0:\n",
    "        # create the folder\n",
    "        os.makedirs(folder,exist_ok=True)\n",
    "        \n",
    "        \n",
    "    ## INFORM USER AND SAVE EMPTY LIST\n",
    "    print(f\"[i] {JSON_FILE} not found. Saving empty list to file.\")\n",
    "    \n",
    "    \n",
    "    ## save the first page of results\n",
    "    with open(JSON_FILE,'w') as f:\n",
    "        json.dump([],f)  \n",
    "## If it exists, inform user\n",
    "else:\n",
    "    print(f\"[i] {JSON_FILE} already exists.\")\n",
    "\n"
   ]
  },
  {
   "cell_type": "code",
   "execution_count": 17,
   "id": "b0dde8e0",
   "metadata": {},
   "outputs": [
    {
     "name": "stdout",
     "output_type": "stream",
     "text": [
      "- 40 previous results found.\n"
     ]
    }
   ],
   "source": [
    "## Load previous results and use len of results for offset\n",
    "with open(JSON_FILE,'r') as f:\n",
    "    previous_results = json.load(f)\n",
    "    \n",
    "## set offset based on previous results\n",
    "n_results = len(previous_results)\n",
    "print(f'- {n_results} previous results found.')\n",
    "\n"
   ]
  },
  {
   "cell_type": "code",
   "execution_count": 18,
   "id": "82ff0911",
   "metadata": {},
   "outputs": [
    {
     "data": {
      "text/plain": [
       "dict_keys(['businesses', 'total', 'region'])"
      ]
     },
     "execution_count": 18,
     "metadata": {},
     "output_type": "execute_result"
    }
   ],
   "source": [
    "results = yelp_api.search_query(location = 'Las Vegas, NV', term='vegan', offset = 20)\n",
    "type(results)\n",
    "results.keys()"
   ]
  },
  {
   "cell_type": "code",
   "execution_count": 19,
   "id": "1f9a2821",
   "metadata": {},
   "outputs": [
    {
     "data": {
      "text/plain": [
       "2700"
      ]
     },
     "execution_count": 19,
     "metadata": {},
     "output_type": "execute_result"
    }
   ],
   "source": [
    "total_results = results['total']\n",
    "total_results"
   ]
  },
  {
   "cell_type": "code",
   "execution_count": 20,
   "id": "44fedf24",
   "metadata": {},
   "outputs": [
    {
     "data": {
      "text/plain": [
       "20"
      ]
     },
     "execution_count": 20,
     "metadata": {},
     "output_type": "execute_result"
    }
   ],
   "source": [
    "results_per_page = len(results['businesses'])\n",
    "results_per_page"
   ]
  },
  {
   "cell_type": "code",
   "execution_count": 21,
   "id": "5a62aad1",
   "metadata": {},
   "outputs": [
    {
     "data": {
      "text/plain": [
       "133"
      ]
     },
     "execution_count": 21,
     "metadata": {},
     "output_type": "execute_result"
    }
   ],
   "source": [
    "# Use math.ceil to round up for the total number of pages of results.\n",
    "n_pages = math.ceil((results['total']-n_results)/ results_per_page)\n",
    "n_pages\n"
   ]
  },
  {
   "cell_type": "code",
   "execution_count": 22,
   "id": "31119cc2",
   "metadata": {},
   "outputs": [],
   "source": [
    "# join new results with old list with extend and save to file\n",
    "previous_results.extend(results['businesses'])  \n",
    "with open(JSON_FILE,'w') as f:\n",
    "     json.dump(previous_results,f)"
   ]
  },
  {
   "cell_type": "code",
   "execution_count": 23,
   "id": "a7831c1b",
   "metadata": {},
   "outputs": [
    {
     "data": {
      "application/vnd.jupyter.widget-view+json": {
       "model_id": "0972f9ad3eeb4463b8b03a8838db88b0",
       "version_major": 2,
       "version_minor": 0
      },
      "text/plain": [
       "  0%|          | 0/133 [00:00<?, ?it/s]"
      ]
     },
     "metadata": {},
     "output_type": "display_data"
    }
   ],
   "source": [
    "for i in tqdm_notebook(range(n_pages)):\n",
    "    # adds 200 ms pause\n",
    "    time.sleep(.2) "
   ]
  },
  {
   "cell_type": "code",
   "execution_count": 24,
   "id": "362363f8",
   "metadata": {},
   "outputs": [
    {
     "data": {
      "application/vnd.jupyter.widget-view+json": {
       "model_id": "a2f95d026af9410a948f162a84eb0fff",
       "version_major": 2,
       "version_minor": 0
      },
      "text/plain": [
       "  0%|          | 0/133 [00:00<?, ?it/s]"
      ]
     },
     "metadata": {},
     "output_type": "display_data"
    }
   ],
   "source": [
    "for i in tqdm_notebook( range(1,n_pages+1)):\n",
    "    time.sleep(.2)\n",
    "    ## Read in results in progress file and check the length\n",
    "with open(JSON_FILE, 'r') as f:\n",
    "        previous_results = json.load(f)\n",
    "    ## save number of results for to use as offset\n",
    "n_results = len(previous_results)\n",
    "    ## use n_results as the OFFSET \n",
    "results = yelp_api.search_query(location = 'Las Vegas, NV', term='vegan', offset = n_results)\n",
    "type(results)\n",
    "results.keys()\n",
    "    \n",
    "    ## append new results and save to file\n",
    "previous_results.extend(results['businesses'])\n",
    "    \n",
    "#     display(previous_results)\n",
    "with open(JSON_FILE,'w') as f:\n",
    "        json.dump(previous_results,f)\n",
    "\n"
   ]
  },
  {
   "cell_type": "code",
   "execution_count": 25,
   "id": "506cce28",
   "metadata": {},
   "outputs": [
    {
     "data": {
      "text/html": [
       "<div>\n",
       "<style scoped>\n",
       "    .dataframe tbody tr th:only-of-type {\n",
       "        vertical-align: middle;\n",
       "    }\n",
       "\n",
       "    .dataframe tbody tr th {\n",
       "        vertical-align: top;\n",
       "    }\n",
       "\n",
       "    .dataframe thead th {\n",
       "        text-align: right;\n",
       "    }\n",
       "</style>\n",
       "<table border=\"1\" class=\"dataframe\">\n",
       "  <thead>\n",
       "    <tr style=\"text-align: right;\">\n",
       "      <th></th>\n",
       "      <th>id</th>\n",
       "      <th>alias</th>\n",
       "      <th>name</th>\n",
       "      <th>image_url</th>\n",
       "      <th>is_closed</th>\n",
       "      <th>url</th>\n",
       "      <th>review_count</th>\n",
       "      <th>categories</th>\n",
       "      <th>rating</th>\n",
       "      <th>coordinates</th>\n",
       "      <th>transactions</th>\n",
       "      <th>location</th>\n",
       "      <th>phone</th>\n",
       "      <th>display_phone</th>\n",
       "      <th>distance</th>\n",
       "      <th>price</th>\n",
       "    </tr>\n",
       "  </thead>\n",
       "  <tbody>\n",
       "    <tr>\n",
       "      <th>0</th>\n",
       "      <td>Jdy_LBHOmf3XIXzwa1sP3Q</td>\n",
       "      <td>saffron-the-vegetarian-eatery-las-vegas</td>\n",
       "      <td>Saffron, the Vegetarian Eatery</td>\n",
       "      <td>https://s3-media1.fl.yelpcdn.com/bphoto/-fZDqk...</td>\n",
       "      <td>False</td>\n",
       "      <td>https://www.yelp.com/biz/saffron-the-vegetaria...</td>\n",
       "      <td>97</td>\n",
       "      <td>[{'alias': 'vegetarian', 'title': 'Vegetarian'...</td>\n",
       "      <td>4.5</td>\n",
       "      <td>{'latitude': 36.12544, 'longitude': -115.20873}</td>\n",
       "      <td>[]</td>\n",
       "      <td>{'address1': '3545 S Decatur Blvd', 'address2'...</td>\n",
       "      <td>+17022011926</td>\n",
       "      <td>(702) 201-1926</td>\n",
       "      <td>6860.133336</td>\n",
       "      <td>NaN</td>\n",
       "    </tr>\n",
       "    <tr>\n",
       "      <th>1</th>\n",
       "      <td>SgoPKzmU5CjuD5ewuoJ7oQ</td>\n",
       "      <td>veggieat-henderson-2</td>\n",
       "      <td>VeggiEAT</td>\n",
       "      <td>https://s3-media1.fl.yelpcdn.com/bphoto/wb4Pky...</td>\n",
       "      <td>False</td>\n",
       "      <td>https://www.yelp.com/biz/veggieat-henderson-2?...</td>\n",
       "      <td>533</td>\n",
       "      <td>[{'alias': 'vegetarian', 'title': 'Vegetarian'...</td>\n",
       "      <td>4.5</td>\n",
       "      <td>{'latitude': 36.0555749, 'longitude': -115.04602}</td>\n",
       "      <td>[delivery, pickup]</td>\n",
       "      <td>{'address1': '390 N Stephanie St', 'address2':...</td>\n",
       "      <td>+17024588899</td>\n",
       "      <td>(702) 458-8899</td>\n",
       "      <td>13012.949883</td>\n",
       "      <td>$$</td>\n",
       "    </tr>\n",
       "    <tr>\n",
       "      <th>2</th>\n",
       "      <td>AtD6B83S4Mbmq0t7iDnUVA</td>\n",
       "      <td>veggie-house-las-vegas-4</td>\n",
       "      <td>Veggie House</td>\n",
       "      <td>https://s3-media2.fl.yelpcdn.com/bphoto/gyKZA_...</td>\n",
       "      <td>False</td>\n",
       "      <td>https://www.yelp.com/biz/veggie-house-las-vega...</td>\n",
       "      <td>1332</td>\n",
       "      <td>[{'alias': 'vegan', 'title': 'Vegan'}, {'alias...</td>\n",
       "      <td>4.5</td>\n",
       "      <td>{'latitude': 36.1256, 'longitude': -115.21121}</td>\n",
       "      <td>[delivery, pickup]</td>\n",
       "      <td>{'address1': '5115 Spring Mountain Rd', 'addre...</td>\n",
       "      <td>+17024315802</td>\n",
       "      <td>(702) 431-5802</td>\n",
       "      <td>7084.422379</td>\n",
       "      <td>$$</td>\n",
       "    </tr>\n",
       "    <tr>\n",
       "      <th>3</th>\n",
       "      <td>alh0ulpzjdUTzikO8K1iEg</td>\n",
       "      <td>down-2-earth-plant-based-cuisine-las-vegas</td>\n",
       "      <td>Down 2 Earth Plant Based Cuisine</td>\n",
       "      <td>https://s3-media4.fl.yelpcdn.com/bphoto/W-AHtM...</td>\n",
       "      <td>False</td>\n",
       "      <td>https://www.yelp.com/biz/down-2-earth-plant-ba...</td>\n",
       "      <td>46</td>\n",
       "      <td>[{'alias': 'vegan', 'title': 'Vegan'}, {'alias...</td>\n",
       "      <td>4.5</td>\n",
       "      <td>{'latitude': 36.0768235, 'longitude': -115.101...</td>\n",
       "      <td>[delivery, pickup]</td>\n",
       "      <td>{'address1': '1020 E Fremont St', 'address2': ...</td>\n",
       "      <td>+17026253234</td>\n",
       "      <td>(702) 625-3234</td>\n",
       "      <td>8321.385143</td>\n",
       "      <td>NaN</td>\n",
       "    </tr>\n",
       "    <tr>\n",
       "      <th>4</th>\n",
       "      <td>ZJEnjjd6gl9ZMyShAZ2PNA</td>\n",
       "      <td>veggy-street-las-vegas-3</td>\n",
       "      <td>Veggy Street</td>\n",
       "      <td>https://s3-media2.fl.yelpcdn.com/bphoto/es3nlZ...</td>\n",
       "      <td>False</td>\n",
       "      <td>https://www.yelp.com/biz/veggy-street-las-vega...</td>\n",
       "      <td>217</td>\n",
       "      <td>[{'alias': 'vegan', 'title': 'Vegan'}, {'alias...</td>\n",
       "      <td>4.5</td>\n",
       "      <td>{'latitude': 36.0137051812491, 'longitude': -1...</td>\n",
       "      <td>[delivery, pickup]</td>\n",
       "      <td>{'address1': '1110 E Silverado Ranch Blvd', 'a...</td>\n",
       "      <td>+17022637774</td>\n",
       "      <td>(702) 263-7774</td>\n",
       "      <td>14716.074033</td>\n",
       "      <td>$$</td>\n",
       "    </tr>\n",
       "  </tbody>\n",
       "</table>\n",
       "</div>"
      ],
      "text/plain": [
       "                       id                                       alias  \\\n",
       "0  Jdy_LBHOmf3XIXzwa1sP3Q     saffron-the-vegetarian-eatery-las-vegas   \n",
       "1  SgoPKzmU5CjuD5ewuoJ7oQ                        veggieat-henderson-2   \n",
       "2  AtD6B83S4Mbmq0t7iDnUVA                    veggie-house-las-vegas-4   \n",
       "3  alh0ulpzjdUTzikO8K1iEg  down-2-earth-plant-based-cuisine-las-vegas   \n",
       "4  ZJEnjjd6gl9ZMyShAZ2PNA                    veggy-street-las-vegas-3   \n",
       "\n",
       "                               name  \\\n",
       "0    Saffron, the Vegetarian Eatery   \n",
       "1                          VeggiEAT   \n",
       "2                      Veggie House   \n",
       "3  Down 2 Earth Plant Based Cuisine   \n",
       "4                      Veggy Street   \n",
       "\n",
       "                                           image_url  is_closed  \\\n",
       "0  https://s3-media1.fl.yelpcdn.com/bphoto/-fZDqk...      False   \n",
       "1  https://s3-media1.fl.yelpcdn.com/bphoto/wb4Pky...      False   \n",
       "2  https://s3-media2.fl.yelpcdn.com/bphoto/gyKZA_...      False   \n",
       "3  https://s3-media4.fl.yelpcdn.com/bphoto/W-AHtM...      False   \n",
       "4  https://s3-media2.fl.yelpcdn.com/bphoto/es3nlZ...      False   \n",
       "\n",
       "                                                 url  review_count  \\\n",
       "0  https://www.yelp.com/biz/saffron-the-vegetaria...            97   \n",
       "1  https://www.yelp.com/biz/veggieat-henderson-2?...           533   \n",
       "2  https://www.yelp.com/biz/veggie-house-las-vega...          1332   \n",
       "3  https://www.yelp.com/biz/down-2-earth-plant-ba...            46   \n",
       "4  https://www.yelp.com/biz/veggy-street-las-vega...           217   \n",
       "\n",
       "                                          categories  rating  \\\n",
       "0  [{'alias': 'vegetarian', 'title': 'Vegetarian'...     4.5   \n",
       "1  [{'alias': 'vegetarian', 'title': 'Vegetarian'...     4.5   \n",
       "2  [{'alias': 'vegan', 'title': 'Vegan'}, {'alias...     4.5   \n",
       "3  [{'alias': 'vegan', 'title': 'Vegan'}, {'alias...     4.5   \n",
       "4  [{'alias': 'vegan', 'title': 'Vegan'}, {'alias...     4.5   \n",
       "\n",
       "                                         coordinates        transactions  \\\n",
       "0    {'latitude': 36.12544, 'longitude': -115.20873}                  []   \n",
       "1  {'latitude': 36.0555749, 'longitude': -115.04602}  [delivery, pickup]   \n",
       "2     {'latitude': 36.1256, 'longitude': -115.21121}  [delivery, pickup]   \n",
       "3  {'latitude': 36.0768235, 'longitude': -115.101...  [delivery, pickup]   \n",
       "4  {'latitude': 36.0137051812491, 'longitude': -1...  [delivery, pickup]   \n",
       "\n",
       "                                            location         phone  \\\n",
       "0  {'address1': '3545 S Decatur Blvd', 'address2'...  +17022011926   \n",
       "1  {'address1': '390 N Stephanie St', 'address2':...  +17024588899   \n",
       "2  {'address1': '5115 Spring Mountain Rd', 'addre...  +17024315802   \n",
       "3  {'address1': '1020 E Fremont St', 'address2': ...  +17026253234   \n",
       "4  {'address1': '1110 E Silverado Ranch Blvd', 'a...  +17022637774   \n",
       "\n",
       "    display_phone      distance price  \n",
       "0  (702) 201-1926   6860.133336   NaN  \n",
       "1  (702) 458-8899  13012.949883    $$  \n",
       "2  (702) 431-5802   7084.422379    $$  \n",
       "3  (702) 625-3234   8321.385143   NaN  \n",
       "4  (702) 263-7774  14716.074033    $$  "
      ]
     },
     "metadata": {},
     "output_type": "display_data"
    },
    {
     "data": {
      "text/html": [
       "<div>\n",
       "<style scoped>\n",
       "    .dataframe tbody tr th:only-of-type {\n",
       "        vertical-align: middle;\n",
       "    }\n",
       "\n",
       "    .dataframe tbody tr th {\n",
       "        vertical-align: top;\n",
       "    }\n",
       "\n",
       "    .dataframe thead th {\n",
       "        text-align: right;\n",
       "    }\n",
       "</style>\n",
       "<table border=\"1\" class=\"dataframe\">\n",
       "  <thead>\n",
       "    <tr style=\"text-align: right;\">\n",
       "      <th></th>\n",
       "      <th>id</th>\n",
       "      <th>alias</th>\n",
       "      <th>name</th>\n",
       "      <th>image_url</th>\n",
       "      <th>is_closed</th>\n",
       "      <th>url</th>\n",
       "      <th>review_count</th>\n",
       "      <th>categories</th>\n",
       "      <th>rating</th>\n",
       "      <th>coordinates</th>\n",
       "      <th>transactions</th>\n",
       "      <th>location</th>\n",
       "      <th>phone</th>\n",
       "      <th>display_phone</th>\n",
       "      <th>distance</th>\n",
       "      <th>price</th>\n",
       "    </tr>\n",
       "  </thead>\n",
       "  <tbody>\n",
       "    <tr>\n",
       "      <th>75</th>\n",
       "      <td>vHz2RLtfUMVRPFmd7VBEHA</td>\n",
       "      <td>gordon-ramsay-hells-kitchen-las-vegas-3</td>\n",
       "      <td>Gordon Ramsay Hell's Kitchen</td>\n",
       "      <td>https://s3-media1.fl.yelpcdn.com/bphoto/EjZ-ne...</td>\n",
       "      <td>False</td>\n",
       "      <td>https://www.yelp.com/biz/gordon-ramsay-hells-k...</td>\n",
       "      <td>8168</td>\n",
       "      <td>[{'alias': 'newamerican', 'title': 'American (...</td>\n",
       "      <td>4.5</td>\n",
       "      <td>{'latitude': 36.1156286, 'longitude': -115.173...</td>\n",
       "      <td>[delivery]</td>\n",
       "      <td>{'address1': '3570 Las Vegas Blvd S', 'address...</td>\n",
       "      <td>+17027317373</td>\n",
       "      <td>(702) 731-7373</td>\n",
       "      <td>4720.236238</td>\n",
       "      <td>$$$</td>\n",
       "    </tr>\n",
       "    <tr>\n",
       "      <th>76</th>\n",
       "      <td>7YYF_A4j5U2qDY7DCp9-1A</td>\n",
       "      <td>shokku-ramen-las-vegas-2</td>\n",
       "      <td>Shokku Ramen</td>\n",
       "      <td>https://s3-media1.fl.yelpcdn.com/bphoto/K8MY7C...</td>\n",
       "      <td>False</td>\n",
       "      <td>https://www.yelp.com/biz/shokku-ramen-las-vega...</td>\n",
       "      <td>1436</td>\n",
       "      <td>[{'alias': 'ramen', 'title': 'Ramen'}, {'alias...</td>\n",
       "      <td>4.5</td>\n",
       "      <td>{'latitude': 36.12640360211591, 'longitude': -...</td>\n",
       "      <td>[pickup, delivery]</td>\n",
       "      <td>{'address1': '3889 Spring Mountain Rd', 'addre...</td>\n",
       "      <td>+17252041252</td>\n",
       "      <td>(725) 204-1252</td>\n",
       "      <td>5392.617900</td>\n",
       "      <td>$$</td>\n",
       "    </tr>\n",
       "    <tr>\n",
       "      <th>77</th>\n",
       "      <td>77h11eWv6HKJAgojLx8G4w</td>\n",
       "      <td>eggslut-las-vegas</td>\n",
       "      <td>Eggslut</td>\n",
       "      <td>https://s3-media1.fl.yelpcdn.com/bphoto/bw_omN...</td>\n",
       "      <td>False</td>\n",
       "      <td>https://www.yelp.com/biz/eggslut-las-vegas?adj...</td>\n",
       "      <td>3391</td>\n",
       "      <td>[{'alias': 'breakfast_brunch', 'title': 'Break...</td>\n",
       "      <td>4.0</td>\n",
       "      <td>{'latitude': 36.109988900000054, 'longitude': ...</td>\n",
       "      <td>[]</td>\n",
       "      <td>{'address1': '3708 Las Vegas Blvd S', 'address...</td>\n",
       "      <td>+17026987000</td>\n",
       "      <td>(702) 698-7000</td>\n",
       "      <td>5241.010381</td>\n",
       "      <td>$$</td>\n",
       "    </tr>\n",
       "    <tr>\n",
       "      <th>78</th>\n",
       "      <td>zS-kFEVA9QhmUbFdqi15gQ</td>\n",
       "      <td>the-tamale-place-pahrump</td>\n",
       "      <td>The Tamale Place</td>\n",
       "      <td>https://s3-media2.fl.yelpcdn.com/bphoto/bdQ4Ys...</td>\n",
       "      <td>False</td>\n",
       "      <td>https://www.yelp.com/biz/the-tamale-place-pahr...</td>\n",
       "      <td>83</td>\n",
       "      <td>[{'alias': 'mexican', 'title': 'Mexican'}, {'a...</td>\n",
       "      <td>5.0</td>\n",
       "      <td>{'latitude': 36.181271, 'longitude': -115.947259}</td>\n",
       "      <td>[]</td>\n",
       "      <td>{'address1': '3640 S Hwy 160', 'address2': 'Un...</td>\n",
       "      <td>+17757277530</td>\n",
       "      <td>(775) 727-7530</td>\n",
       "      <td>72868.518593</td>\n",
       "      <td>NaN</td>\n",
       "    </tr>\n",
       "    <tr>\n",
       "      <th>79</th>\n",
       "      <td>EY_hSclIsnqOGj8sooODqQ</td>\n",
       "      <td>scrambled-henderson-3</td>\n",
       "      <td>Scrambled</td>\n",
       "      <td>https://s3-media3.fl.yelpcdn.com/bphoto/y-W5Nr...</td>\n",
       "      <td>False</td>\n",
       "      <td>https://www.yelp.com/biz/scrambled-henderson-3...</td>\n",
       "      <td>577</td>\n",
       "      <td>[{'alias': 'breakfast_brunch', 'title': 'Break...</td>\n",
       "      <td>4.5</td>\n",
       "      <td>{'latitude': 36.0138828779304, 'longitude': -1...</td>\n",
       "      <td>[pickup, delivery]</td>\n",
       "      <td>{'address1': '2645 St Rose Pkwy', 'address2': ...</td>\n",
       "      <td>+17257352386</td>\n",
       "      <td>(725) 735-2386</td>\n",
       "      <td>14991.795446</td>\n",
       "      <td>$$</td>\n",
       "    </tr>\n",
       "  </tbody>\n",
       "</table>\n",
       "</div>"
      ],
      "text/plain": [
       "                        id                                    alias  \\\n",
       "75  vHz2RLtfUMVRPFmd7VBEHA  gordon-ramsay-hells-kitchen-las-vegas-3   \n",
       "76  7YYF_A4j5U2qDY7DCp9-1A                 shokku-ramen-las-vegas-2   \n",
       "77  77h11eWv6HKJAgojLx8G4w                        eggslut-las-vegas   \n",
       "78  zS-kFEVA9QhmUbFdqi15gQ                 the-tamale-place-pahrump   \n",
       "79  EY_hSclIsnqOGj8sooODqQ                    scrambled-henderson-3   \n",
       "\n",
       "                            name  \\\n",
       "75  Gordon Ramsay Hell's Kitchen   \n",
       "76                  Shokku Ramen   \n",
       "77                       Eggslut   \n",
       "78              The Tamale Place   \n",
       "79                     Scrambled   \n",
       "\n",
       "                                            image_url  is_closed  \\\n",
       "75  https://s3-media1.fl.yelpcdn.com/bphoto/EjZ-ne...      False   \n",
       "76  https://s3-media1.fl.yelpcdn.com/bphoto/K8MY7C...      False   \n",
       "77  https://s3-media1.fl.yelpcdn.com/bphoto/bw_omN...      False   \n",
       "78  https://s3-media2.fl.yelpcdn.com/bphoto/bdQ4Ys...      False   \n",
       "79  https://s3-media3.fl.yelpcdn.com/bphoto/y-W5Nr...      False   \n",
       "\n",
       "                                                  url  review_count  \\\n",
       "75  https://www.yelp.com/biz/gordon-ramsay-hells-k...          8168   \n",
       "76  https://www.yelp.com/biz/shokku-ramen-las-vega...          1436   \n",
       "77  https://www.yelp.com/biz/eggslut-las-vegas?adj...          3391   \n",
       "78  https://www.yelp.com/biz/the-tamale-place-pahr...            83   \n",
       "79  https://www.yelp.com/biz/scrambled-henderson-3...           577   \n",
       "\n",
       "                                           categories  rating  \\\n",
       "75  [{'alias': 'newamerican', 'title': 'American (...     4.5   \n",
       "76  [{'alias': 'ramen', 'title': 'Ramen'}, {'alias...     4.5   \n",
       "77  [{'alias': 'breakfast_brunch', 'title': 'Break...     4.0   \n",
       "78  [{'alias': 'mexican', 'title': 'Mexican'}, {'a...     5.0   \n",
       "79  [{'alias': 'breakfast_brunch', 'title': 'Break...     4.5   \n",
       "\n",
       "                                          coordinates        transactions  \\\n",
       "75  {'latitude': 36.1156286, 'longitude': -115.173...          [delivery]   \n",
       "76  {'latitude': 36.12640360211591, 'longitude': -...  [pickup, delivery]   \n",
       "77  {'latitude': 36.109988900000054, 'longitude': ...                  []   \n",
       "78  {'latitude': 36.181271, 'longitude': -115.947259}                  []   \n",
       "79  {'latitude': 36.0138828779304, 'longitude': -1...  [pickup, delivery]   \n",
       "\n",
       "                                             location         phone  \\\n",
       "75  {'address1': '3570 Las Vegas Blvd S', 'address...  +17027317373   \n",
       "76  {'address1': '3889 Spring Mountain Rd', 'addre...  +17252041252   \n",
       "77  {'address1': '3708 Las Vegas Blvd S', 'address...  +17026987000   \n",
       "78  {'address1': '3640 S Hwy 160', 'address2': 'Un...  +17757277530   \n",
       "79  {'address1': '2645 St Rose Pkwy', 'address2': ...  +17257352386   \n",
       "\n",
       "     display_phone      distance price  \n",
       "75  (702) 731-7373   4720.236238   $$$  \n",
       "76  (725) 204-1252   5392.617900    $$  \n",
       "77  (702) 698-7000   5241.010381    $$  \n",
       "78  (775) 727-7530  72868.518593   NaN  \n",
       "79  (725) 735-2386  14991.795446    $$  "
      ]
     },
     "metadata": {},
     "output_type": "display_data"
    }
   ],
   "source": [
    "# load final results\n",
    "final_df = pd.read_json(JSON_FILE)\n",
    "display(final_df.head(), final_df.tail())\n"
   ]
  },
  {
   "cell_type": "code",
   "execution_count": 26,
   "id": "65bc2291",
   "metadata": {},
   "outputs": [],
   "source": [
    "final_df.to_csv('Data/final_results_vegan_spots.csv.gz', compression='gzip',index=False)"
   ]
  },
  {
   "cell_type": "code",
   "execution_count": null,
   "id": "e50511eb",
   "metadata": {},
   "outputs": [],
   "source": []
  }
 ],
 "metadata": {
  "kernelspec": {
   "display_name": "Python (dojo-env)",
   "language": "python",
   "name": "dojo-env"
  },
  "language_info": {
   "codemirror_mode": {
    "name": "ipython",
    "version": 3
   },
   "file_extension": ".py",
   "mimetype": "text/x-python",
   "name": "python",
   "nbconvert_exporter": "python",
   "pygments_lexer": "ipython3",
   "version": "3.8.13"
  },
  "toc": {
   "base_numbering": 1,
   "nav_menu": {},
   "number_sections": false,
   "sideBar": true,
   "skip_h1_title": false,
   "title_cell": "Table of Contents",
   "title_sidebar": "Contents",
   "toc_cell": false,
   "toc_position": {},
   "toc_section_display": true,
   "toc_window_display": false
  }
 },
 "nbformat": 4,
 "nbformat_minor": 5
}
